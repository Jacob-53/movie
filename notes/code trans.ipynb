{
 "cells": [
  {
   "cell_type": "code",
   "execution_count": null,
   "id": "e7697a52-a285-478a-b642-69226de4a539",
   "metadata": {},
   "outputs": [],
   "source": [
    "import pandas as pd\n",
    "df=pd.read_parquet(\"/home/jacob/data/movies/dailyboxoffice/dt=20240101/\")\n",
    "df\n",
    "fil_movieCd=[]\n",
    "for _, row in adf.iterrows():\n",
    "    if pd.isna(row['multiMovieYn']) or pd.isna(row['repNationCd']):\n",
    "        fil_movieCd.append(row['movieCd'])\n",
    "        \n",
    "def merge_values(series):\n",
    "    return ', '.join(series.dropna().astype(str).unique())\n",
    "\n",
    "merged_list=[]\n",
    "\n",
    "for i in set(fil_movieCd):\n",
    "    fil_dup=adf[adf['movieCd'] == i][['movieCd', 'movieNm', 'multiMovieYn', 'repNationCd','audiCnt','rnum']]\n",
    "    if len(fil_dup) == 1 and fil_dup[['multiMovieYn', 'repNationCd']].isna().all(axis=1).iloc[0]:\n",
    "        fil_dup = fil_dup.fillna(\"Unclassified\")\n",
    "        merged_list.append(fil_dup)\n",
    "    else:\n",
    "        fil_dup=fil_dup.dropna(subset=['multiMovieYn', 'repNationCd'], how='all')\n",
    "        merged_adf = fil_dup.groupby(['movieCd', 'movieNm'], as_index=False).agg({\n",
    "            'multiMovieYn': merge_values,\n",
    "            'repNationCd': merge_values,\n",
    "            'audiCnt': 'max'\n",
    "        })\n",
    "        merged_list.append(merged_adf)\n",
    "f_merged_adf = pd.concat(merged_list, ignore_index=True)"
   ]
  }
 ],
 "metadata": {
  "kernelspec": {
   "display_name": "Python 3 (ipykernel)",
   "language": "python",
   "name": "python3"
  },
  "language_info": {
   "codemirror_mode": {
    "name": "ipython",
    "version": 3
   },
   "file_extension": ".py",
   "mimetype": "text/x-python",
   "name": "python",
   "nbconvert_exporter": "python",
   "pygments_lexer": "ipython3",
   "version": "3.10.12"
  }
 },
 "nbformat": 4,
 "nbformat_minor": 5
}

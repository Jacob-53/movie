{
 "cells": [
  {
   "cell_type": "code",
   "execution_count": 2,
   "id": "1eda1d9e-0ef5-47d1-9a3c-1f00cb693d6d",
   "metadata": {},
   "outputs": [],
   "source": [
    "import pandas as pd\n",
    "df1=pd.read_parquet(\"/home/jacob/data/movies/dailyboxoffice/dt=20240101/18ec1230f6104adc8dcf967f62774c93-0.parquet\")\n",
    "#df2=pd.read_parquet(\"/home/jacob/data/movies/dailyboxoffice/dt=20240101/\")\n",
    "df3=pd.read_parquet(\"/home/jacob/data/movies/dailyboxoffice/dt=20240101/3262df9bce76439e8ba4ac0faf67ce10-0.parquet\")\n",
    "df4=pd.read_parquet(\"/home/jacob/data/movies/dailyboxoffice/dt=20240101/455d16d2d4704e8285e1e06d8019facc-0.parquet\")\n",
    "df5=pd.read_parquet(\"/home/jacob/data/movies/dailyboxoffice/dt=20240101/b10dbce30b844e83b388fcb9296bf696-0.parquet\")\n",
    "df6=pd.read_parquet(\"/home/jacob/data/movies/dailyboxoffice/dt=20240101/d87214e915fe46e592880caa57604a32-0.parquet\")\n",
    "df7=pd.read_parquet(\"/home/jacob/data/movies/dailyboxoffice/dt=20240101/dt=20240101/e0d080775cee4828bfed69dbdc731ebc-0.parquet\")"
   ]
  },
  {
   "cell_type": "code",
   "execution_count": 3,
   "id": "efbc1464-3f0f-4a03-b770-ad3fb6c80322",
   "metadata": {},
   "outputs": [
    {
     "data": {
      "text/plain": [
       "Index(['rnum', 'rank', 'rankInten', 'rankOldAndNew', 'movieCd', 'movieNm',\n",
       "       'openDt', 'salesAmt', 'salesShare', 'salesInten', 'salesChange',\n",
       "       'salesAcc', 'audiCnt', 'audiInten', 'audiChange', 'audiAcc', 'scrnCnt',\n",
       "       'showCnt', 'multiMovieYn'],\n",
       "      dtype='object')"
      ]
     },
     "execution_count": 3,
     "metadata": {},
     "output_type": "execute_result"
    }
   ],
   "source": [
    "df1.columns"
   ]
  },
  {
   "cell_type": "code",
   "execution_count": 4,
   "id": "67d7fb50-677d-4cae-83bb-f70fad1a318b",
   "metadata": {},
   "outputs": [
    {
     "data": {
      "text/plain": [
       "Index(['rnum', 'rank', 'rankInten', 'rankOldAndNew', 'movieCd', 'movieNm',\n",
       "       'openDt', 'salesAmt', 'salesShare', 'salesInten', 'salesChange',\n",
       "       'salesAcc', 'audiCnt', 'audiInten', 'audiChange', 'audiAcc', 'scrnCnt',\n",
       "       'showCnt', 'repNationCd'],\n",
       "      dtype='object')"
      ]
     },
     "execution_count": 4,
     "metadata": {},
     "output_type": "execute_result"
    }
   ],
   "source": [
    "df3.columns"
   ]
  },
  {
   "cell_type": "code",
   "execution_count": 5,
   "id": "af121091-9e09-4c86-b86f-fa179f81fc89",
   "metadata": {},
   "outputs": [
    {
     "data": {
      "text/plain": [
       "Index(['rnum', 'rank', 'rankInten', 'rankOldAndNew', 'movieCd', 'movieNm',\n",
       "       'openDt', 'salesAmt', 'salesShare', 'salesInten', 'salesChange',\n",
       "       'salesAcc', 'audiCnt', 'audiInten', 'audiChange', 'audiAcc', 'scrnCnt',\n",
       "       'showCnt', 'multiMovieYn'],\n",
       "      dtype='object')"
      ]
     },
     "execution_count": 5,
     "metadata": {},
     "output_type": "execute_result"
    }
   ],
   "source": [
    "df4.columns"
   ]
  },
  {
   "cell_type": "code",
   "execution_count": 6,
   "id": "a744f65a-9402-40ec-832e-aed9ff93ee28",
   "metadata": {},
   "outputs": [
    {
     "data": {
      "text/plain": [
       "Index(['rnum', 'rank', 'rankInten', 'rankOldAndNew', 'movieCd', 'movieNm',\n",
       "       'openDt', 'salesAmt', 'salesShare', 'salesInten', 'salesChange',\n",
       "       'salesAcc', 'audiCnt', 'audiInten', 'audiChange', 'audiAcc', 'scrnCnt',\n",
       "       'showCnt', 'repNationCd'],\n",
       "      dtype='object')"
      ]
     },
     "execution_count": 6,
     "metadata": {},
     "output_type": "execute_result"
    }
   ],
   "source": [
    "df5.columns"
   ]
  },
  {
   "cell_type": "code",
   "execution_count": 7,
   "id": "97494c4f-b01b-4670-a900-8d019fd290f7",
   "metadata": {},
   "outputs": [
    {
     "data": {
      "text/plain": [
       "Index(['rnum', 'rank', 'rankInten', 'rankOldAndNew', 'movieCd', 'movieNm',\n",
       "       'openDt', 'salesAmt', 'salesShare', 'salesInten', 'salesChange',\n",
       "       'salesAcc', 'audiCnt', 'audiInten', 'audiChange', 'audiAcc', 'scrnCnt',\n",
       "       'showCnt'],\n",
       "      dtype='object')"
      ]
     },
     "execution_count": 7,
     "metadata": {},
     "output_type": "execute_result"
    }
   ],
   "source": [
    "df6.columns"
   ]
  },
  {
   "cell_type": "code",
   "execution_count": 8,
   "id": "b499d82a-3f1a-419f-87e9-c27d18585103",
   "metadata": {},
   "outputs": [
    {
     "data": {
      "text/plain": [
       "Index(['rnum', 'rank', 'rankInten', 'rankOldAndNew', 'movieCd', 'movieNm',\n",
       "       'openDt', 'salesAmt', 'salesShare', 'salesInten', 'salesChange',\n",
       "       'salesAcc', 'audiCnt', 'audiInten', 'audiChange', 'audiAcc', 'scrnCnt',\n",
       "       'showCnt'],\n",
       "      dtype='object')"
      ]
     },
     "execution_count": 8,
     "metadata": {},
     "output_type": "execute_result"
    }
   ],
   "source": [
    "df7.columns"
   ]
  },
  {
   "cell_type": "code",
   "execution_count": null,
   "id": "82205cdf-1ba5-40d8-a589-25bad5da84aa",
   "metadata": {},
   "outputs": [],
   "source": []
  }
 ],
 "metadata": {
  "kernelspec": {
   "display_name": "Python 3 (ipykernel)",
   "language": "python",
   "name": "python3"
  },
  "language_info": {
   "codemirror_mode": {
    "name": "ipython",
    "version": 3
   },
   "file_extension": ".py",
   "mimetype": "text/x-python",
   "name": "python",
   "nbconvert_exporter": "python",
   "pygments_lexer": "ipython3",
   "version": "3.12.3"
  }
 },
 "nbformat": 4,
 "nbformat_minor": 5
}

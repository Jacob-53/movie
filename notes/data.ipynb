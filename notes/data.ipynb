{
 "cells": [
  {
   "cell_type": "code",
   "execution_count": 12,
   "id": "1eda1d9e-0ef5-47d1-9a3c-1f00cb693d6d",
   "metadata": {},
   "outputs": [],
   "source": [
    "import pandas as pd\n",
    "df1=pd.read_parquet(\"/home/jacob/data/movies/dailyboxoffice/dt=20240101/efeab9bc948642b283df8aafc4f82ef3-0.parquet\")\n",
    "df2=pd.read_parquet(\"/home/jacob/data/movies/dailyboxoffice/dt=20240101/\")"
   ]
  },
  {
   "cell_type": "code",
   "execution_count": 13,
   "id": "efbc1464-3f0f-4a03-b770-ad3fb6c80322",
   "metadata": {},
   "outputs": [
    {
     "data": {
      "text/plain": [
       "Index(['rnum', 'rank', 'rankInten', 'rankOldAndNew', 'movieCd', 'movieNm',\n",
       "       'openDt', 'salesAmt', 'salesShare', 'salesInten', 'salesChange',\n",
       "       'salesAcc', 'audiCnt', 'audiInten', 'audiChange', 'audiAcc', 'scrnCnt',\n",
       "       'showCnt'],\n",
       "      dtype='object')"
      ]
     },
     "execution_count": 13,
     "metadata": {},
     "output_type": "execute_result"
    }
   ],
   "source": [
    "df1.columns"
   ]
  },
  {
   "cell_type": "code",
   "execution_count": 14,
   "id": "67d7fb50-677d-4cae-83bb-f70fad1a318b",
   "metadata": {},
   "outputs": [
    {
     "data": {
      "text/plain": [
       "Index(['rnum', 'rank', 'rankInten', 'rankOldAndNew', 'movieCd', 'movieNm',\n",
       "       'openDt', 'salesAmt', 'salesShare', 'salesInten', 'salesChange',\n",
       "       'salesAcc', 'audiCnt', 'audiInten', 'audiChange', 'audiAcc', 'scrnCnt',\n",
       "       'showCnt'],\n",
       "      dtype='object')"
      ]
     },
     "execution_count": 14,
     "metadata": {},
     "output_type": "execute_result"
    }
   ],
   "source": [
    "df2.columns"
   ]
  },
  {
   "cell_type": "code",
   "execution_count": 15,
   "id": "af121091-9e09-4c86-b86f-fa179f81fc89",
   "metadata": {},
   "outputs": [
    {
     "name": "stdout",
     "output_type": "stream",
     "text": [
      "  rnum rank rankInten rankOldAndNew   movieCd                 movieNm  \\\n",
      "0    1    1         0           OLD  20203702              노량: 죽음의 바다   \n",
      "1    2    2         0           OLD  20212866                   서울의 봄   \n",
      "2    3    3         1           OLD  20234673        뽀로로 극장판 슈퍼스타 대모험   \n",
      "3    4    4        -1           OLD  20235290               도티와 영원의 탑   \n",
      "4    5    5         0           OLD  20190324                  3일의 휴가   \n",
      "5    6    6         2           OLD  20202247                 싱글 인 서울   \n",
      "6    7    7        -1           OLD  20228560                    너와 나   \n",
      "7    8    8         1           OLD  20235697  엔시티 네이션 : 투 더 월드 인 시네마   \n",
      "8    9    9         6           OLD  20232077                  어른 김장하   \n",
      "9   10   10         3           OLD  20227525               교토에서 온 편지   \n",
      "\n",
      "       openDt    salesAmt salesShare  salesInten salesChange      salesAcc  \\\n",
      "0  2023-12-20  2893509165       49.8  -686119312       -19.2   36926118105   \n",
      "1  2023-11-22  2666429137       45.9  -649456909       -19.6  118016920547   \n",
      "2  2023-12-13   113680587        2.0     2278496           2    3046919883   \n",
      "3  2023-12-27   100024717        1.7   -13487835       -11.9     488186693   \n",
      "4  2023-12-06    28109697        0.5    -5429437       -16.2    4863180386   \n",
      "5  2023-11-29     1903007        0.0     -409621       -17.7    3740536035   \n",
      "6  2023-10-25     2625839        0.0    -3233861       -55.2     330224803   \n",
      "7  2023-12-06     1364000        0.0    -3168000       -69.9     554784000   \n",
      "8  2023-11-15      214000        0.0      -58000       -21.3     230592472   \n",
      "9  2023-12-06      207000        0.0      -67800       -24.7      58288197   \n",
      "\n",
      "  audiCnt audiInten audiChange   audiAcc scrnCnt showCnt  \n",
      "0  290717    -59184      -16.9   3728850    1706    5793  \n",
      "1  262422    -64054      -19.6  12117201    1614    5444  \n",
      "2   11586       190        1.7    332776     335     432  \n",
      "3   10704     -1268      -10.6     52400     357     419  \n",
      "4    3295      -626        -16    517836     132     157  \n",
      "5     212       -17       -7.4    399787       9       9  \n",
      "6     192      -337      -63.7     33811       8       8  \n",
      "7      69      -144      -67.6     25099       8       8  \n",
      "8      31        -8      -20.5     27603       2       2  \n",
      "9      29       -19      -39.6      6717       3       3  \n"
     ]
    }
   ],
   "source": [
    "print(df1)"
   ]
  },
  {
   "cell_type": "code",
   "execution_count": null,
   "id": "a744f65a-9402-40ec-832e-aed9ff93ee28",
   "metadata": {},
   "outputs": [],
   "source": []
  }
 ],
 "metadata": {
  "kernelspec": {
   "display_name": "Python 3 (ipykernel)",
   "language": "python",
   "name": "python3"
  },
  "language_info": {
   "codemirror_mode": {
    "name": "ipython",
    "version": 3
   },
   "file_extension": ".py",
   "mimetype": "text/x-python",
   "name": "python",
   "nbconvert_exporter": "python",
   "pygments_lexer": "ipython3",
   "version": "3.10.12"
  }
 },
 "nbformat": 4,
 "nbformat_minor": 5
}

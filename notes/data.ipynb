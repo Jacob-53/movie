{
 "cells": [
  {
   "cell_type": "code",
   "execution_count": 9,
   "id": "1eda1d9e-0ef5-47d1-9a3c-1f00cb693d6d",
   "metadata": {},
   "outputs": [],
   "source": [
    "import pandas as pd\n",
    "df1=pd.read_parquet(\"/home/jacob/data/movies/dailyboxoffice/dt=20240101/dt=20240101/5518b74651334ac580d2e2ca8dcf1126-0.parquet\")\n",
    "df11=pd.read_parquet(\"/home/jacob/data/movies/dailyboxoffice/dt=20240101/dt=20240101/\")\n",
    "df2=pd.read_parquet(\"/home/jacob/data/movies/dailyboxoffice/dt=20240101/\")\n",
    "df20=pd.read_parquet(\"/home/jacob/data/movies/dailyboxoffice/\")\n",
    "df3=pd.read_parquet(\"/home/jacob/data/movies/dailyboxoffice/dt=20240101/multiMovieYn=N/dt=20240101/a09a4994940e4e8b84aa1aa09654b5af-0.parquet\")\n",
    "df4=pd.read_parquet(\"/home/jacob/data/movies/dailyboxoffice/dt=20240101/multiMovieYn=N\")\n",
    "# df5=pd.read_parquet(\"/home/jacob/data/movies/dailyboxoffice/dt=20240101/b10dbce30b844e83b388fcb9296bf696-0.parquet\")\n",
    "# df6=pd.read_parquet(\"/home/jacob/data/movies/dailyboxoffice/dt=20240101/d87214e915fe46e592880caa57604a32-0.parquet\")\n",
    "# df7=pd.read_parquet(\"/home/jacob/data/movies/dailyboxoffice/dt=20240101/dt=20240101/e0d080775cee4828bfed69dbdc731ebc-0.parquet\")"
   ]
  },
  {
   "cell_type": "code",
   "execution_count": 10,
   "id": "efbc1464-3f0f-4a03-b770-ad3fb6c80322",
   "metadata": {},
   "outputs": [
    {
     "data": {
      "text/plain": [
       "Index(['rnum', 'rank', 'rankInten', 'rankOldAndNew', 'movieCd', 'movieNm',\n",
       "       'openDt', 'salesAmt', 'salesShare', 'salesInten', 'salesChange',\n",
       "       'salesAcc', 'audiCnt', 'audiInten', 'audiChange', 'audiAcc', 'scrnCnt',\n",
       "       'showCnt'],\n",
       "      dtype='object')"
      ]
     },
     "execution_count": 10,
     "metadata": {},
     "output_type": "execute_result"
    }
   ],
   "source": [
    "df1.columns"
   ]
  },
  {
   "cell_type": "code",
   "execution_count": 18,
   "id": "ce7e2bd3-5d6a-4bd0-8f97-68196624c846",
   "metadata": {},
   "outputs": [
    {
     "name": "stdout",
     "output_type": "stream",
     "text": [
      "   rnum  rank  rankInten rankOldAndNew   movieCd  \\\n",
      "0     1     1          0           OLD  20203702   \n",
      "1     2     2          0           OLD  20212866   \n",
      "2     3     3          0           OLD  20236146   \n",
      "3     4     4          0           OLD  20235735   \n",
      "4     5     5          0           OLD  20235596   \n",
      "5     6     6          1           OLD  20234673   \n",
      "6     7     7         -1           OLD  20235290   \n",
      "7     8     8          0           OLD  20234114   \n",
      "8     9     9          0           OLD  20236045   \n",
      "9    10    10          1           OLD  20235980   \n",
      "\n",
      "                                movieNm      openDt    salesAmt  salesShare  \\\n",
      "0                            노량: 죽음의 바다  2023-12-20  2893509165        38.8   \n",
      "1                                 서울의 봄  2023-11-22  2666429137        35.8   \n",
      "2  신차원! 짱구는 못말려 더 무비 초능력 대결전 ~날아라 수제김밥~  2023-12-22   565417320         7.6   \n",
      "3                          아쿠아맨과 로스트 킹덤  2023-12-20   507984981         6.8   \n",
      "4                            트롤: 밴드 투게더  2023-12-20   273538754         3.7   \n",
      "5                      뽀로로 극장판 슈퍼스타 대모험  2023-12-13   113680587         1.5   \n",
      "6                             도티와 영원의 탑  2023-12-27   100024717         1.3   \n",
      "7                                    괴물  2023-11-29    92381680         1.2   \n",
      "8  바다 탐험대 옥토넛 어보브 앤 비욘드: 버드, 옥토경보를 울려라!  2023-12-27    53094530         0.7   \n",
      "9                             말하고 싶은 비밀  2023-12-13    38025184         0.5   \n",
      "\n",
      "   salesInten  salesChange      salesAcc  audiCnt  audiInten  audiChange  \\\n",
      "0  -686119312        -19.2   36926118105   290717     -59184       -16.9   \n",
      "1  -649456909        -19.6  118016920547   262422     -64054       -19.6   \n",
      "2   -69888800        -11.0    6071745009    58239      -6751       -10.4   \n",
      "3  -156026099        -23.5    7967584753    49368     -14686       -22.9   \n",
      "4   -16945147         -5.8    3383181955    28988      -1952        -6.3   \n",
      "5     2278496          2.0    3046919883    11586        190         1.7   \n",
      "6   -13487835        -11.9     488186693    10704      -1268       -10.6   \n",
      "7    -3768994         -3.9    3884333955     8710       -524        -5.7   \n",
      "8     -707720         -1.3     372974290     6471         67         1.0   \n",
      "9    -2349427         -5.8     868379725     3765       -164        -4.2   \n",
      "\n",
      "    audiAcc  scrnCnt  showCnt  \n",
      "0   3728850     1706     5793  \n",
      "1  12117201     1614     5444  \n",
      "2    626508      834     1671  \n",
      "3    772354      832     1611  \n",
      "4    365927      660      981  \n",
      "5    332776      335      432  \n",
      "6     52400      357      419  \n",
      "7    396137      187      263  \n",
      "8     45294      207      248  \n",
      "9     89597       95      127  \n"
     ]
    }
   ],
   "source": [
    "print(df1)"
   ]
  },
  {
   "cell_type": "code",
   "execution_count": 11,
   "id": "b372c12a-367d-4952-b26d-8eb6098b129c",
   "metadata": {},
   "outputs": [
    {
     "data": {
      "text/plain": [
       "Index(['rnum', 'rank', 'rankInten', 'rankOldAndNew', 'movieCd', 'movieNm',\n",
       "       'openDt', 'salesAmt', 'salesShare', 'salesInten', 'salesChange',\n",
       "       'salesAcc', 'audiCnt', 'audiInten', 'audiChange', 'audiAcc', 'scrnCnt',\n",
       "       'showCnt'],\n",
       "      dtype='object')"
      ]
     },
     "execution_count": 11,
     "metadata": {},
     "output_type": "execute_result"
    }
   ],
   "source": [
    "df11.columns"
   ]
  },
  {
   "cell_type": "code",
   "execution_count": 12,
   "id": "67d7fb50-677d-4cae-83bb-f70fad1a318b",
   "metadata": {},
   "outputs": [
    {
     "data": {
      "text/plain": [
       "Index(['rnum', 'rank', 'rankInten', 'rankOldAndNew', 'movieCd', 'movieNm',\n",
       "       'openDt', 'salesAmt', 'salesShare', 'salesInten', 'salesChange',\n",
       "       'salesAcc', 'audiCnt', 'audiInten', 'audiChange', 'audiAcc', 'scrnCnt',\n",
       "       'showCnt', 'dt', 'multiMovieYn', 'repNationCd'],\n",
       "      dtype='object')"
      ]
     },
     "execution_count": 12,
     "metadata": {},
     "output_type": "execute_result"
    }
   ],
   "source": [
    "df2.columns"
   ]
  },
  {
   "cell_type": "code",
   "execution_count": 13,
   "id": "5c77508d-cc5b-490a-b0f7-565897ea7881",
   "metadata": {},
   "outputs": [
    {
     "name": "stdout",
     "output_type": "stream",
     "text": [
      "    rnum  rank  rankInten rankOldAndNew   movieCd  \\\n",
      "0      1     1          0           OLD  20203702   \n",
      "1      2     2          0           OLD  20212866   \n",
      "2      3     3          0           OLD  20236146   \n",
      "3      4     4          0           OLD  20235735   \n",
      "4      5     5          0           OLD  20235596   \n",
      "5      6     6          1           OLD  20234673   \n",
      "6      7     7         -1           OLD  20235290   \n",
      "7      8     8          0           OLD  20234114   \n",
      "8      9     9          0           OLD  20236045   \n",
      "9     10    10          1           OLD  20235980   \n",
      "10     1     1          0           OLD  20203702   \n",
      "11     2     2          0           OLD  20212866   \n",
      "12     3     3          0           OLD  20236146   \n",
      "13     4     4          0           OLD  20235735   \n",
      "14     5     5          0           OLD  20235596   \n",
      "15     6     6          1           OLD  20234673   \n",
      "16     7     7         -1           OLD  20235290   \n",
      "17     8     8          0           OLD  20235980   \n",
      "18     9     9          0           OLD  20190324   \n",
      "19    10    10          0           OLD  20235098   \n",
      "20     1     1          0           OLD  20234114   \n",
      "21     2     2          0           OLD  20236045   \n",
      "22     3     3          0           OLD  20236080   \n",
      "23     4     4          0           OLD  20233299   \n",
      "24     5     5          0           OLD  20235923   \n",
      "25     6     6          0           OLD  20235693   \n",
      "26     7     7          5           OLD  20234664   \n",
      "27     8     8          2           OLD  20124722   \n",
      "28     9     8          0           NEW  20236533   \n",
      "29    10    10          4           OLD  19860125   \n",
      "30     1     1          0           OLD  20236146   \n",
      "31     2     2          0           OLD  20235735   \n",
      "32     3     3          0           OLD  20235596   \n",
      "33     4     4          0           OLD  20234114   \n",
      "34     5     5          0           OLD  20236045   \n",
      "35     6     6          1           OLD  20235980   \n",
      "36     7     7         -1           OLD  20236080   \n",
      "37     8     8          0           OLD  20233299   \n",
      "38     9     9          0           OLD  20235923   \n",
      "39    10    10          0           OLD  20235693   \n",
      "40     1     1          0           OLD  20203702   \n",
      "41     2     2          0           OLD  20212866   \n",
      "42     3     3          1           OLD  20234673   \n",
      "43     4     4         -1           OLD  20235290   \n",
      "44     5     5          0           OLD  20190324   \n",
      "45     6     6          2           OLD  20202247   \n",
      "46     7     7         -1           OLD  20228560   \n",
      "47     8     8          1           OLD  20235697   \n",
      "48     9     9          6           OLD  20232077   \n",
      "49    10    10          3           OLD  20227525   \n",
      "\n",
      "                                 movieNm      openDt    salesAmt  salesShare  \\\n",
      "0                             노량: 죽음의 바다  2023-12-20  2893509165        38.8   \n",
      "1                                  서울의 봄  2023-11-22  2666429137        35.8   \n",
      "2   신차원! 짱구는 못말려 더 무비 초능력 대결전 ~날아라 수제김밥~  2023-12-22   565417320         7.6   \n",
      "3                           아쿠아맨과 로스트 킹덤  2023-12-20   507984981         6.8   \n",
      "4                             트롤: 밴드 투게더  2023-12-20   273538754         3.7   \n",
      "5                       뽀로로 극장판 슈퍼스타 대모험  2023-12-13   113680587         1.5   \n",
      "6                              도티와 영원의 탑  2023-12-27   100024717         1.3   \n",
      "7                                     괴물  2023-11-29    92381680         1.2   \n",
      "8   바다 탐험대 옥토넛 어보브 앤 비욘드: 버드, 옥토경보를 울려라!  2023-12-27    53094530         0.7   \n",
      "9                              말하고 싶은 비밀  2023-12-13    38025184         0.5   \n",
      "10                            노량: 죽음의 바다  2023-12-20  2893509165        40.2   \n",
      "11                                 서울의 봄  2023-11-22  2666429137        37.0   \n",
      "12  신차원! 짱구는 못말려 더 무비 초능력 대결전 ~날아라 수제김밥~  2023-12-22   565417320         7.8   \n",
      "13                          아쿠아맨과 로스트 킹덤  2023-12-20   507984981         7.1   \n",
      "14                            트롤: 밴드 투게더  2023-12-20   273538754         3.8   \n",
      "15                      뽀로로 극장판 슈퍼스타 대모험  2023-12-13   113680587         1.6   \n",
      "16                             도티와 영원의 탑  2023-12-27   100024717         1.4   \n",
      "17                             말하고 싶은 비밀  2023-12-13    38025184         0.5   \n",
      "18                                3일의 휴가  2023-12-06    28109697         0.4   \n",
      "19                                  나폴레옹  2023-12-06     4056567         0.1   \n",
      "20                                    괴물  2023-11-29    92381680        37.0   \n",
      "21  바다 탐험대 옥토넛 어보브 앤 비욘드: 버드, 옥토경보를 울려라!  2023-12-27    53094530        21.3   \n",
      "22                         류이치 사카모토: 오퍼스  2023-12-27    31686950        12.7   \n",
      "23                                  크레센도  2023-12-20    29203100        11.7   \n",
      "24                            사랑은 낙엽을 타고  2023-12-20    11011634         4.4   \n",
      "25                             리빙: 어떤 인생  2023-12-13     6942434         2.8   \n",
      "26                        그대들은 어떻게 살 것인가  2023-10-25     3371362         1.4   \n",
      "27                             피아니스트의 전설  2020-01-01     3063078         1.2   \n",
      "28                                립세의 사계  2024-01-10     2804970         1.1   \n",
      "29                                  쿼바디스  1973-01-13      589000         0.2   \n",
      "30  신차원! 짱구는 못말려 더 무비 초능력 대결전 ~날아라 수제김밥~  2023-12-22   565417320        34.4   \n",
      "31                          아쿠아맨과 로스트 킹덤  2023-12-20   507984981        30.9   \n",
      "32                            트롤: 밴드 투게더  2023-12-20   273538754        16.6   \n",
      "33                                    괴물  2023-11-29    92381680         5.6   \n",
      "34  바다 탐험대 옥토넛 어보브 앤 비욘드: 버드, 옥토경보를 울려라!  2023-12-27    53094530         3.2   \n",
      "35                             말하고 싶은 비밀  2023-12-13    38025184         2.3   \n",
      "36                         류이치 사카모토: 오퍼스  2023-12-27    31686950         1.9   \n",
      "37                                  크레센도  2023-12-20    29203100         1.8   \n",
      "38                            사랑은 낙엽을 타고  2023-12-20    11011634         0.7   \n",
      "39                             리빙: 어떤 인생  2023-12-13     6942434         0.4   \n",
      "40                            노량: 죽음의 바다  2023-12-20  2893509165        49.8   \n",
      "41                                 서울의 봄  2023-11-22  2666429137        45.9   \n",
      "42                      뽀로로 극장판 슈퍼스타 대모험  2023-12-13   113680587         2.0   \n",
      "43                             도티와 영원의 탑  2023-12-27   100024717         1.7   \n",
      "44                                3일의 휴가  2023-12-06    28109697         0.5   \n",
      "45                               싱글 인 서울  2023-11-29     1903007         0.0   \n",
      "46                                  너와 나  2023-10-25     2625839         0.0   \n",
      "47                엔시티 네이션 : 투 더 월드 인 시네마  2023-12-06     1364000         0.0   \n",
      "48                                어른 김장하  2023-11-15      214000         0.0   \n",
      "49                             교토에서 온 편지  2023-12-06      207000         0.0   \n",
      "\n",
      "    salesInten  ...      salesAcc  audiCnt  audiInten  audiChange   audiAcc  \\\n",
      "0   -686119312  ...   36926118105   290717     -59184       -16.9   3728850   \n",
      "1   -649456909  ...  118016920547   262422     -64054       -19.6  12117201   \n",
      "2    -69888800  ...    6071745009    58239      -6751       -10.4    626508   \n",
      "3   -156026099  ...    7967584753    49368     -14686       -22.9    772354   \n",
      "4    -16945147  ...    3383181955    28988      -1952        -6.3    365927   \n",
      "5      2278496  ...    3046919883    11586        190         1.7    332776   \n",
      "6    -13487835  ...     488186693    10704      -1268       -10.6     52400   \n",
      "7     -3768994  ...    3884333955     8710       -524        -5.7    396137   \n",
      "8      -707720  ...     372974290     6471         67         1.0     45294   \n",
      "9     -2349427  ...     868379725     3765       -164        -4.2     89597   \n",
      "10  -686119312  ...   36926118105   290717     -59184       -16.9   3728850   \n",
      "11  -649456909  ...  118016920547   262422     -64054       -19.6  12117201   \n",
      "12   -69888800  ...    6071745009    58239      -6751       -10.4    626508   \n",
      "13  -156026099  ...    7967584753    49368     -14686       -22.9    772354   \n",
      "14   -16945147  ...    3383181955    28988      -1952        -6.3    365927   \n",
      "15     2278496  ...    3046919883    11586        190         1.7    332776   \n",
      "16   -13487835  ...     488186693    10704      -1268       -10.6     52400   \n",
      "17    -2349427  ...     868379725     3765       -164        -4.2     89597   \n",
      "18    -5429437  ...    4863180386     3295       -626       -16.0    517836   \n",
      "19      -89539  ...    2246030517      540        -20        -3.6    225912   \n",
      "20    -3768994  ...    3884333955     8710       -524        -5.7    396137   \n",
      "21     -707720  ...     372974290     6471         67         1.0     45294   \n",
      "22   -15234118  ...     317887981     3001      -1659       -35.6     34196   \n",
      "23    -2644200  ...     424298400     2534       -235        -8.5     39445   \n",
      "24      285955  ...     163391820     1052        -28        -2.6     17008   \n",
      "25    -1569966  ...     174717087      729       -181       -19.9     18551   \n",
      "26     -142718  ...   19543638004      318        -29        -8.4   2009716   \n",
      "27    -1092200  ...     416989591      294       -142       -32.6     51876   \n",
      "28     2804970  ...       4330970      294        294       100.0       512   \n",
      "29      149000  ...      37856982      292         72        32.7     20951   \n",
      "30   -69888800  ...    6071745009    58239      -6751       -10.4    626508   \n",
      "31  -156026099  ...    7967584753    49368     -14686       -22.9    772354   \n",
      "32   -16945147  ...    3383181955    28988      -1952        -6.3    365927   \n",
      "33    -3768994  ...    3884333955     8710       -524        -5.7    396137   \n",
      "34     -707720  ...     372974290     6471         67         1.0     45294   \n",
      "35    -2349427  ...     868379725     3765       -164        -4.2     89597   \n",
      "36   -15234118  ...     317887981     3001      -1659       -35.6     34196   \n",
      "37    -2644200  ...     424298400     2534       -235        -8.5     39445   \n",
      "38      285955  ...     163391820     1052        -28        -2.6     17008   \n",
      "39    -1569966  ...     174717087      729       -181       -19.9     18551   \n",
      "40  -686119312  ...   36926118105   290717     -59184       -16.9   3728850   \n",
      "41  -649456909  ...  118016920547   262422     -64054       -19.6  12117201   \n",
      "42     2278496  ...    3046919883    11586        190         1.7    332776   \n",
      "43   -13487835  ...     488186693    10704      -1268       -10.6     52400   \n",
      "44    -5429437  ...    4863180386     3295       -626       -16.0    517836   \n",
      "45     -409621  ...    3740536035      212        -17        -7.4    399787   \n",
      "46    -3233861  ...     330224803      192       -337       -63.7     33811   \n",
      "47    -3168000  ...     554784000       69       -144       -67.6     25099   \n",
      "48      -58000  ...     230592472       31         -8       -20.5     27603   \n",
      "49      -67800  ...      58288197       29        -19       -39.6      6717   \n",
      "\n",
      "    scrnCnt  showCnt        dt multiMovieYn repNationCd  \n",
      "0      1706     5793  20240101          NaN         NaN  \n",
      "1      1614     5444  20240101          NaN         NaN  \n",
      "2       834     1671  20240101          NaN         NaN  \n",
      "3       832     1611  20240101          NaN         NaN  \n",
      "4       660      981  20240101          NaN         NaN  \n",
      "5       335      432  20240101          NaN         NaN  \n",
      "6       357      419  20240101          NaN         NaN  \n",
      "7       187      263  20240101          NaN         NaN  \n",
      "8       207      248  20240101          NaN         NaN  \n",
      "9        95      127  20240101          NaN         NaN  \n",
      "10     1706     5793  20240101            N         NaN  \n",
      "11     1614     5444  20240101            N         NaN  \n",
      "12      834     1671  20240101            N         NaN  \n",
      "13      832     1611  20240101            N         NaN  \n",
      "14      660      981  20240101            N         NaN  \n",
      "15      335      432  20240101            N         NaN  \n",
      "16      357      419  20240101            N         NaN  \n",
      "17       95      127  20240101            N         NaN  \n",
      "18      132      157  20240101            N         NaN  \n",
      "19       23       25  20240101            N         NaN  \n",
      "20      187      263  20240101            Y         NaN  \n",
      "21      207      248  20240101            Y         NaN  \n",
      "22      200      270  20240101            Y         NaN  \n",
      "23       79      102  20240101            Y         NaN  \n",
      "24       30       33  20240101            Y         NaN  \n",
      "25       20       23  20240101            Y         NaN  \n",
      "26       17       20  20240101            Y         NaN  \n",
      "27       23       25  20240101            Y         NaN  \n",
      "28        4        4  20240101            Y         NaN  \n",
      "29        1        3  20240101            Y         NaN  \n",
      "30      834     1671  20240101          NaN           F  \n",
      "31      832     1611  20240101          NaN           F  \n",
      "32      660      981  20240101          NaN           F  \n",
      "33      187      263  20240101          NaN           F  \n",
      "34      207      248  20240101          NaN           F  \n",
      "35       95      127  20240101          NaN           F  \n",
      "36      200      270  20240101          NaN           F  \n",
      "37       79      102  20240101          NaN           F  \n",
      "38       30       33  20240101          NaN           F  \n",
      "39       20       23  20240101          NaN           F  \n",
      "40     1706     5793  20240101          NaN           K  \n",
      "41     1614     5444  20240101          NaN           K  \n",
      "42      335      432  20240101          NaN           K  \n",
      "43      357      419  20240101          NaN           K  \n",
      "44      132      157  20240101          NaN           K  \n",
      "45        9        9  20240101          NaN           K  \n",
      "46        8        8  20240101          NaN           K  \n",
      "47        8        8  20240101          NaN           K  \n",
      "48        2        2  20240101          NaN           K  \n",
      "49        3        3  20240101          NaN           K  \n",
      "\n",
      "[50 rows x 21 columns]\n"
     ]
    }
   ],
   "source": [
    "print(df2)"
   ]
  },
  {
   "cell_type": "code",
   "execution_count": 14,
   "id": "1691f044-69a1-4cad-b630-255b69c426a5",
   "metadata": {},
   "outputs": [
    {
     "data": {
      "text/plain": [
       "Index(['rnum', 'rank', 'rankInten', 'rankOldAndNew', 'movieCd', 'movieNm',\n",
       "       'openDt', 'salesAmt', 'salesShare', 'salesInten', 'salesChange',\n",
       "       'salesAcc', 'audiCnt', 'audiInten', 'audiChange', 'audiAcc', 'scrnCnt',\n",
       "       'showCnt', 'dt', 'multiMovieYn', 'repNationCd'],\n",
       "      dtype='object')"
      ]
     },
     "execution_count": 14,
     "metadata": {},
     "output_type": "execute_result"
    }
   ],
   "source": [
    "df20.columns"
   ]
  },
  {
   "cell_type": "code",
   "execution_count": 20,
   "id": "aece1179-e462-49c9-9206-b38534ab141b",
   "metadata": {
    "scrolled": true
   },
   "outputs": [
    {
     "name": "stdout",
     "output_type": "stream",
     "text": [
      "     rnum  rank  rankInten rankOldAndNew   movieCd  \\\n",
      "0       1     1          0           OLD  20203702   \n",
      "1       2     2          0           OLD  20212866   \n",
      "2       3     3          0           OLD  20236146   \n",
      "3       4     4          0           OLD  20235735   \n",
      "4       5     5          0           OLD  20235596   \n",
      "..    ...   ...        ...           ...       ...   \n",
      "225     6     6          0           OLD  20235290   \n",
      "226     7     7          1           OLD  20235353   \n",
      "227     8     8          1           OLD  20228560   \n",
      "228     9     9         -2           OLD  20202247   \n",
      "229    10    10          0           NEW  20234796   \n",
      "\n",
      "                                  movieNm      openDt    salesAmt  salesShare  \\\n",
      "0                              노량: 죽음의 바다  2023-12-20  2893509165        38.8   \n",
      "1                                   서울의 봄  2023-11-22  2666429137        35.8   \n",
      "2    신차원! 짱구는 못말려 더 무비 초능력 대결전 ~날아라 수제김밥~  2023-12-22   565417320         7.6   \n",
      "3                            아쿠아맨과 로스트 킹덤  2023-12-20   507984981         6.8   \n",
      "4                              트롤: 밴드 투게더  2023-12-20   273538754         3.7   \n",
      "..                                    ...         ...         ...         ...   \n",
      "225                             도티와 영원의 탑  2023-12-27     6509317         0.6   \n",
      "226                               길위에 김대중  2024-01-10     2536000         0.2   \n",
      "227                                  너와 나  2023-10-25     1704878         0.2   \n",
      "228                               싱글 인 서울  2023-11-29      916400         0.1   \n",
      "229                                    비밀  2023-12-13      330000         0.0   \n",
      "\n",
      "     salesInten  ...      salesAcc  audiCnt  audiInten  audiChange   audiAcc  \\\n",
      "0    -686119312  ...   36926118105   290717     -59184       -16.9   3728850   \n",
      "1    -649456909  ...  118016920547   262422     -64054       -19.6  12117201   \n",
      "2     -69888800  ...    6071745009    58239      -6751       -10.4    626508   \n",
      "3    -156026099  ...    7967584753    49368     -14686       -22.9    772354   \n",
      "4     -16945147  ...    3383181955    28988      -1952        -6.3    365927   \n",
      "..          ...  ...           ...      ...        ...         ...       ...   \n",
      "225      993061  ...     541695481      693         96        16.1     58403   \n",
      "226     1048000  ...     123813000      242         42        21.0     13823   \n",
      "227      225422  ...     335463287      159         -3        -1.9     34374   \n",
      "228    -1308089  ...    3745831462       89       -178       -66.7    400371   \n",
      "229      330000  ...      68905305       55         55       100.0      6822   \n",
      "\n",
      "     scrnCnt  showCnt        dt multiMovieYn repNationCd  \n",
      "0       1706     5793  20240101          NaN         NaN  \n",
      "1       1614     5444  20240101          NaN         NaN  \n",
      "2        834     1671  20240101          NaN         NaN  \n",
      "3        832     1611  20240101          NaN         NaN  \n",
      "4        660      981  20240101          NaN         NaN  \n",
      "..       ...      ...       ...          ...         ...  \n",
      "225       65       69  20240105          NaN           K  \n",
      "226        2        2  20240105          NaN           K  \n",
      "227       13       15  20240105          NaN           K  \n",
      "228        5        8  20240105          NaN           K  \n",
      "229        5        5  20240105          NaN           K  \n",
      "\n",
      "[230 rows x 21 columns]\n"
     ]
    }
   ],
   "source": [
    "print(df20)"
   ]
  },
  {
   "cell_type": "code",
   "execution_count": 15,
   "id": "af121091-9e09-4c86-b86f-fa179f81fc89",
   "metadata": {},
   "outputs": [
    {
     "data": {
      "text/plain": [
       "Index(['rnum', 'rank', 'rankInten', 'rankOldAndNew', 'movieCd', 'movieNm',\n",
       "       'openDt', 'salesAmt', 'salesShare', 'salesInten', 'salesChange',\n",
       "       'salesAcc', 'audiCnt', 'audiInten', 'audiChange', 'audiAcc', 'scrnCnt',\n",
       "       'showCnt', 'multiMovieYn'],\n",
       "      dtype='object')"
      ]
     },
     "execution_count": 15,
     "metadata": {},
     "output_type": "execute_result"
    }
   ],
   "source": [
    "df3.columns"
   ]
  },
  {
   "cell_type": "code",
   "execution_count": 16,
   "id": "a744f65a-9402-40ec-832e-aed9ff93ee28",
   "metadata": {},
   "outputs": [
    {
     "data": {
      "text/plain": [
       "Index(['rnum', 'rank', 'rankInten', 'rankOldAndNew', 'movieCd', 'movieNm',\n",
       "       'openDt', 'salesAmt', 'salesShare', 'salesInten', 'salesChange',\n",
       "       'salesAcc', 'audiCnt', 'audiInten', 'audiChange', 'audiAcc', 'scrnCnt',\n",
       "       'showCnt', 'multiMovieYn', 'dt'],\n",
       "      dtype='object')"
      ]
     },
     "execution_count": 16,
     "metadata": {},
     "output_type": "execute_result"
    }
   ],
   "source": [
    "df4.columns"
   ]
  },
  {
   "cell_type": "code",
   "execution_count": null,
   "id": "97494c4f-b01b-4670-a900-8d019fd290f7",
   "metadata": {},
   "outputs": [],
   "source": [
    "df6.columns"
   ]
  },
  {
   "cell_type": "code",
   "execution_count": 8,
   "id": "b499d82a-3f1a-419f-87e9-c27d18585103",
   "metadata": {},
   "outputs": [
    {
     "data": {
      "text/plain": [
       "Index(['rnum', 'rank', 'rankInten', 'rankOldAndNew', 'movieCd', 'movieNm',\n",
       "       'openDt', 'salesAmt', 'salesShare', 'salesInten', 'salesChange',\n",
       "       'salesAcc', 'audiCnt', 'audiInten', 'audiChange', 'audiAcc', 'scrnCnt',\n",
       "       'showCnt'],\n",
       "      dtype='object')"
      ]
     },
     "execution_count": 8,
     "metadata": {},
     "output_type": "execute_result"
    }
   ],
   "source": [
    "df7.columns"
   ]
  },
  {
   "cell_type": "code",
   "execution_count": null,
   "id": "82205cdf-1ba5-40d8-a589-25bad5da84aa",
   "metadata": {},
   "outputs": [],
   "source": []
  }
 ],
 "metadata": {
  "kernelspec": {
   "display_name": "Python 3 (ipykernel)",
   "language": "python",
   "name": "python3"
  },
  "language_info": {
   "codemirror_mode": {
    "name": "ipython",
    "version": 3
   },
   "file_extension": ".py",
   "mimetype": "text/x-python",
   "name": "python",
   "nbconvert_exporter": "python",
   "pygments_lexer": "ipython3",
   "version": "3.10.12"
  }
 },
 "nbformat": 4,
 "nbformat_minor": 5
}
